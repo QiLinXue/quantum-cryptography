{
 "cells": [
  {
   "cell_type": "code",
   "execution_count": 1,
   "metadata": {},
   "outputs": [],
   "source": [
    "import numpy as np\n",
    "\n",
    "'''\n",
    "Experimental parameters\n",
    "'''\n",
    "alpha = 0.046 * (1 / 1000) # km^-1 (Fiber loss coefficient)\n",
    "beta = 0.62 # m^-1 (On-chip loss coefficient)\n",
    "tau_f = 102.85 * (1e-9) # ns (feed-forward time in fiber)\n",
    "tau_s = 20 * (1e-12) # ps (feed-forward time on chip)\n",
    "eta_c = 0.99 # chip to fiber coupling efficiency\n",
    "eta_s = 0.99 # source detector efficient product\n",
    "c_f = 2e8 # m/s (speed of light in fiber)\n",
    "c_ch = 7.6e7 # m/s (speed of light in chip)\n",
    "\n",
    "\n",
    "'''\n",
    "Derived Parameters\n",
    "'''\n",
    "eta_GHZ = eta_s/(2-eta_s)\n",
    "P_GHZ = (eta_s*(2-eta_s))**3/32\n",
    "P_chip = np.exp(-beta*tau_s*c_ch)\n",
    "P_fib = np.exp(-alpha*tau_f*c_f)"
   ]
  },
  {
   "cell_type": "code",
   "execution_count": 2,
   "metadata": {},
   "outputs": [],
   "source": [
    "k = 7\n",
    "n = 250\n",
    "m = 4\n",
    "\n",
    "P_prime = (eta_GHZ*P_chip**(k+1))**(4*m+1)"
   ]
  },
  {
   "cell_type": "code",
   "execution_count": 3,
   "metadata": {},
   "outputs": [],
   "source": [
    "def P0(n_GHZ):\n",
    "    return 1 - (1 - P_GHZ)**n_GHZ\n",
    "\n",
    "def Ql(l):\n",
    "    return (eta_GHZ*P_chip**l)**2/2\n",
    "\n",
    "def Pl(l, n_B, n_GHZ):\n",
    "    if l == 0:\n",
    "        return P0(n_GHZ)\n",
    "\n",
    "    return 1 - (1 - Pl(l-1, n_B, n_GHZ)**2 * Ql(l))**n_B\n",
    "\n",
    "def P_c1(n_meas, n_B, n_GHZ):\n",
    "    return 1 - (1 - P_prime * Pl(k, n_B, n_GHZ))**n_meas\n",
    "\n",
    "def get_n_GHZ(Ns, n_meas, n_B):\n",
    "    return Ns/(6*n_meas*(2*n_B)**k)"
   ]
  },
  {
   "attachments": {},
   "cell_type": "markdown",
   "metadata": {},
   "source": [
    "$$P_{c1} = 1 - (1-P_kP')^{n_\\text{meas}}$$\n",
    "but paper has typo that says\n",
    "$$P_{c1} = 1- (Q_kP')^{n_\\text{meas}}$$"
   ]
  },
  {
   "cell_type": "code",
   "execution_count": 4,
   "metadata": {},
   "outputs": [],
   "source": [
    "def get_P_c1_from_Ns(Ns):\n",
    "    n_meas_list = np.linspace(1, 50, 50)\n",
    "    n_B_list = np.linspace(1, 50, 50)\n",
    "\n",
    "    optimal_P_c1 = -1\n",
    "    optimal_n_meas = -1\n",
    "    optimal_n_B = -1\n",
    "    optimal_n_GHZ = -1\n",
    "\n",
    "    for n_meas in n_meas_list:\n",
    "        for n_B in n_B_list:\n",
    "            n_GHZ = int(get_n_GHZ(Ns, n_meas, n_B))\n",
    "            if n_GHZ < 1:\n",
    "                continue\n",
    "            P_c1_current = P_c1(n_meas, n_B, n_GHZ)\n",
    "            if P_c1_current > optimal_P_c1:\n",
    "                optimal_P_c1 = P_c1_current\n",
    "                optimal_n_meas = n_meas\n",
    "                optimal_n_B = n_B\n",
    "                optimal_n_GHZ = n_GHZ\n",
    "\n",
    "    return optimal_P_c1, optimal_n_meas, optimal_n_B, optimal_n_GHZ\n",
    "\n",
    "def get_P_cn_from_Ns(Ns):\n",
    "    return get_P_c1_from_Ns(Ns)[0]**n"
   ]
  },
  {
   "cell_type": "code",
   "execution_count": 5,
   "metadata": {},
   "outputs": [
    {
     "data": {
      "text/plain": [
       "([<matplotlib.axis.XTick at 0x236cac2f750>,\n",
       "  <matplotlib.axis.XTick at 0x236ca3677d0>,\n",
       "  <matplotlib.axis.XTick at 0x236cab52190>,\n",
       "  <matplotlib.axis.XTick at 0x236cac79490>],\n",
       " [Text(1000000, 0, '$\\\\mathdefault{10^{6}}$'),\n",
       "  Text(100000000, 0, '$\\\\mathdefault{10^{8}}$'),\n",
       "  Text(10000000000, 0, '$\\\\mathdefault{10^{10}}$'),\n",
       "  Text(1000000000000, 0, '$\\\\mathdefault{10^{12}}$')])"
      ]
     },
     "execution_count": 5,
     "metadata": {},
     "output_type": "execute_result"
    },
    {
     "data": {
      "image/png": "[encoded data removed]",
      "text/plain": [
       "<Figure size 1000x700 with 1 Axes>"
      ]
     },
     "metadata": {},
     "output_type": "display_data"
    }
   ],
   "source": [
    "import matplotlib.pyplot as plt\n",
    "\n",
    "N_s_list = np.logspace(9, 12, 40)\n",
    "P_cn_list = [get_P_cn_from_Ns(i) for i in N_s_list]\n",
    "\n",
    "cutoff_index = next((i for i, value in enumerate(P_cn_list) if value > 1e-30)) - 1\n",
    "\n",
    "N_s_list = N_s_list[cutoff_index:]\n",
    "P_cn_list = P_cn_list[cutoff_index:]\n",
    "\n",
    "# make bigger plot\n",
    "plt.figure(figsize=(10,7))\n",
    "\n",
    "\n",
    "plt.xscale(\"log\")\n",
    "plt.yscale(\"log\")\n",
    "plt.plot(N_s_list, P_cn_list)\n",
    "\n",
    "plt.xlim(1e6, 1e12)\n",
    "# only show tick marks at 10^x where x is even\n",
    "plt.xticks([10**i for i in range(6, 14, 2)])"
   ]
  },
  {
   "cell_type": "markdown",
   "metadata": {},
   "source": [
    "# Optimal Version"
   ]
  },
  {
   "cell_type": "code",
   "execution_count": 6,
   "metadata": {},
   "outputs": [],
   "source": [
    "k = 7\n",
    "n = 250\n",
    "m = 4\n",
    "\n",
    "def pl(l):\n",
    "    mu_l = eta_GHZ * P_chip**(l+1)\n",
    "    return mu_l**2 * (0.5*eta_s**2 + 0.25*eta_s**4)\n",
    "\n",
    "def num_Clm_states(l, Ns, multi_index=[]):\n",
    "    if l == 0:\n",
    "        return np.random.binomial(Ns/6, P_GHZ)/(2**k)\n",
    "\n",
    "    else:\n",
    "        y1 = int(num_Clm_states(l-1, Ns, multi_index + [1]))\n",
    "        y2 = int(num_Clm_states(l-1, Ns, multi_index + [2]))\n",
    "        return np.random.binomial(min(y1, y2), pl(l))\n",
    "\n",
    "def P_c1_advanced(Ns, total_sims = 5000):\n",
    "    success = 0\n",
    "\n",
    "    for i in range(total_sims):\n",
    "        if num_Clm_states(k, Ns) > 0:\n",
    "            success += 1\n",
    "\n",
    "    return success / total_sims\n",
    "\n",
    "def get_P_cn_from_Ns_advanced(Ns, total_sims = 5000):\n",
    "    return P_c1_advanced(Ns, total_sims = 5000)**n"
   ]
  },
  {
   "cell_type": "code",
   "execution_count": 9,
   "metadata": {},
   "outputs": [],
   "source": [
    "import matplotlib.pyplot as plt\n",
    "\n",
    "N_s_list_advanced = np.logspace(6, 7, 20)\n",
    "P_cn_list_advanced = []\n",
    "# for i in N_s_list_advanced:\n",
    "#     P_cn = get_P_cn_from_Ns_advanced(i)\n",
    "#     P_cn_list_advanced.append(P_cn)\n",
    "#     print(i, P_cn)"
   ]
  },
  {
   "cell_type": "code",
   "execution_count": 7,
   "metadata": {},
   "outputs": [],
   "source": [
    "import multiprocessing"
   ]
  },
  {
   "cell_type": "code",
   "execution_count": 10,
   "metadata": {},
   "outputs": [],
   "source": [
    "pool = multiprocessing.Pool()\n",
    "P_cn_list_advanced = pool.map(get_P_cn_from_Ns_advanced, N_s_list_advanced)\n",
    "pool.close()\n",
    "pool.join()"
   ]
  },
  {
   "cell_type": "code",
   "execution_count": null,
   "metadata": {},
   "outputs": [],
   "source": []
  }
 ],
 "metadata": {
  "kernelspec": {
   "display_name": "Python 3",
   "language": "python",
   "name": "python3"
  },
  "language_info": {
   "codemirror_mode": {
    "name": "ipython",
    "version": 3
   },
   "file_extension": ".py",
   "mimetype": "text/x-python",
   "name": "python",
   "nbconvert_exporter": "python",
   "pygments_lexer": "ipython3",
   "version": "3.11.3"
  },
  "orig_nbformat": 4
 },
 "nbformat": 4,
 "nbformat_minor": 2
}
